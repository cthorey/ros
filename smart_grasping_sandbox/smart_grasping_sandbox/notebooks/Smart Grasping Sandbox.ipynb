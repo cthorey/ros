{
 "cells": [
  {
   "cell_type": "markdown",
   "metadata": {
    "collapsed": true
   },
   "source": [
    "# Loading the library\n",
    "\n",
    "The Smart Grasping Sandbox comes with a helper library that makes it easy to interact with the environment."
   ]
  },
  {
   "cell_type": "code",
   "execution_count": 54,
   "metadata": {},
   "outputs": [
    {
     "name": "stdout",
     "output_type": "stream",
     "text": [
      "The autoreload extension is already loaded. To reload it, use:\n",
      "  %reload_ext autoreload\n",
      "[INFO] [WallTime: 1496939496.162270] [32.883000] STARTING CONTROLLERS\n"
     ]
    }
   ],
   "source": [
    "from smart_grasping_sandbox.smart_grasper import SmartGrasper\n",
    "from tf.transformations import quaternion_from_euler\n",
    "from math import pi\n",
    "import time\n",
    "\n",
    "%load_ext autoreload\n",
    "%autoreload 2\n",
    "sgs = SmartGrasper()"
   ]
  },
  {
   "cell_type": "markdown",
   "metadata": {},
   "source": [
    "# Pick the ball\n",
    "\n",
    "Try to pick the ball using the `pick` function."
   ]
  },
  {
   "cell_type": "code",
   "execution_count": 55,
   "metadata": {},
   "outputs": [
    {
     "data": {
      "text/plain": [
       "<rospy.topics.Subscriber at 0x7f4fc9faabd0>"
      ]
     },
     "execution_count": 55,
     "metadata": {},
     "output_type": "execute_result"
    }
   ],
   "source": [
    "sgs.target_sub\n"
   ]
  },
  {
   "cell_type": "code",
   "execution_count": 56,
   "metadata": {},
   "outputs": [
    {
     "data": {
      "text/plain": [
       "x: 0.186751270221\n",
       "y: 0.00640799222135\n",
       "z: 0.837219226375"
      ]
     },
     "execution_count": 56,
     "metadata": {},
     "output_type": "execute_result"
    }
   ],
   "source": [
    "sgs.ball_pose"
   ]
  },
  {
   "cell_type": "code",
   "execution_count": 57,
   "metadata": {},
   "outputs": [
    {
     "name": "stdout",
     "output_type": "stream",
     "text": [
      "hello\n"
     ]
    },
    {
     "data": {
      "text/plain": [
       "position: \n",
       "  x: 0.184107402696\n",
       "  y: 0.00981553552531\n",
       "  z: 0.822823542371\n",
       "orientation: \n",
       "  x: 0.0\n",
       "  y: 0.0\n",
       "  z: 0.0\n",
       "  w: 1"
      ]
     },
     "execution_count": 57,
     "metadata": {},
     "output_type": "execute_result"
    }
   ],
   "source": [
    "sgs.get_ball_pose()"
   ]
  },
  {
   "cell_type": "code",
   "execution_count": 58,
   "metadata": {},
   "outputs": [
    {
     "name": "stdout",
     "output_type": "stream",
     "text": [
      "[INFO] [WallTime: 1496939500.955392] [36.159000] Moving to Pregrasp\n",
      "hello\n",
      "[INFO] [WallTime: 1496939505.787456] [39.809000] Grasping\n",
      "[INFO] [WallTime: 1496939514.237702] [46.141000] Lifting\n"
     ]
    }
   ],
   "source": [
    "sgs.pick()"
   ]
  },
  {
   "cell_type": "code",
   "execution_count": 49,
   "metadata": {},
   "outputs": [
    {
     "name": "stdout",
     "output_type": "stream",
     "text": [
      "[INFO] [WallTime: 1496939346.103136] [252.888000] STARTING CONTROLLERS\n"
     ]
    }
   ],
   "source": [
    "sgs.reset_world()"
   ]
  },
  {
   "cell_type": "markdown",
   "metadata": {},
   "source": [
    "## A bit more detail\n",
    "This is what happens in the `pick` function. \n",
    "\n",
    "First we move over the ball"
   ]
  },
  {
   "cell_type": "code",
   "execution_count": 13,
   "metadata": {},
   "outputs": [
    {
     "name": "stdout",
     "output_type": "stream",
     "text": [
      "hello\n"
     ]
    },
    {
     "data": {
      "text/plain": [
       "True"
      ]
     },
     "execution_count": 13,
     "metadata": {},
     "output_type": "execute_result"
    }
   ],
   "source": [
    "sgs.open_hand()\n",
    "time.sleep(0.1)\n",
    "\n",
    "ball_pose = sgs.get_ball_pose()\n",
    "ball_pose.position.z += 0.5\n",
    "\n",
    "#setting an absolute orientation (from the top)\n",
    "quaternion = quaternion_from_euler(-pi/2., 0.0, 0.0)\n",
    "ball_pose.orientation.x = quaternion[0]\n",
    "ball_pose.orientation.y = quaternion[1]\n",
    "ball_pose.orientation.z = quaternion[2]\n",
    "ball_pose.orientation.w = quaternion[3]\n",
    "\n",
    "sgs.move_tip_absolute(ball_pose)\n"
   ]
  },
  {
   "cell_type": "markdown",
   "metadata": {},
   "source": [
    "Now finalise the approach and close the hand"
   ]
  },
  {
   "cell_type": "code",
   "execution_count": 14,
   "metadata": {},
   "outputs": [
    {
     "data": {
      "text/plain": [
       "True"
      ]
     },
     "execution_count": 14,
     "metadata": {},
     "output_type": "execute_result"
    }
   ],
   "source": [
    "sgs.move_tip(y=-0.163)"
   ]
  },
  {
   "cell_type": "code",
   "execution_count": null,
   "metadata": {},
   "outputs": [],
   "source": [
    "sgs.check_fingers_collisions(False)\n",
    "sgs.close_hand()"
   ]
  },
  {
   "cell_type": "markdown",
   "metadata": {},
   "source": [
    "And finally lift the ball"
   ]
  },
  {
   "cell_type": "code",
   "execution_count": null,
   "metadata": {},
   "outputs": [],
   "source": [
    "for _ in range(50):\n",
    "    sgs.move_tip(y=0.001)\n",
    "    time.sleep(0.1)\n",
    "    \n",
    "sgs.check_fingers_collisions(True)"
   ]
  },
  {
   "cell_type": "markdown",
   "metadata": {},
   "source": [
    "## Other tricks\n",
    "\n",
    "We can also send direct commands to the different joints."
   ]
  },
  {
   "cell_type": "code",
   "execution_count": null,
   "metadata": {},
   "outputs": [],
   "source": [
    "sgs.reset_world()\n",
    "\n",
    "sgs.send_command({\"H1_F1J1\": -1.0, \"shoulder_pan_joint\": 2.0})\n"
   ]
  },
  {
   "cell_type": "code",
   "execution_count": null,
   "metadata": {},
   "outputs": [],
   "source": [
    "joints_position,  joints_velocity, joints_effort = sgs.get_current_joint_state()\n",
    "print \"Latest joints position: \", joints_position"
   ]
  }
 ],
 "metadata": {
  "kernelspec": {
   "display_name": "Python 2",
   "language": "python",
   "name": "python2"
  },
  "language_info": {
   "codemirror_mode": {
    "name": "ipython",
    "version": 2
   },
   "file_extension": ".py",
   "mimetype": "text/x-python",
   "name": "python",
   "nbconvert_exporter": "python",
   "pygments_lexer": "ipython2",
   "version": "2.7.6"
  },
  "toc": {
   "colors": {
    "hover_highlight": "#DAA520",
    "navigate_num": "#000000",
    "navigate_text": "#333333",
    "running_highlight": "#FF0000",
    "selected_highlight": "#FFD700",
    "sidebar_border": "#EEEEEE",
    "wrapper_background": "#FFFFFF"
   },
   "moveMenuLeft": true,
   "nav_menu": {
    "height": "30px",
    "width": "252px"
   },
   "navigate_menu": true,
   "number_sections": true,
   "sideBar": true,
   "threshold": 4,
   "toc_cell": false,
   "toc_section_display": "block",
   "toc_window_display": false,
   "widenNotebook": false
  }
 },
 "nbformat": 4,
 "nbformat_minor": 1
}
